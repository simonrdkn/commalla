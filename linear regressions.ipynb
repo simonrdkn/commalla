{
 "cells": [
  {
   "cell_type": "code",
   "execution_count": 240,
   "metadata": {},
   "outputs": [],
   "source": [
    "import os \n",
    "import pandas as pd\n",
    "import numpy as np\n",
    "\n",
    "from sklearn.model_selection import train_test_split, GridSearchCV\n",
    "from sklearn.preprocessing import StandardScaler\n",
    "from sklearn.linear_model import Lasso, LassoCV\n",
    "from sklearn.linear_model import ElasticNetCV, ElasticNet\n",
    "from sklearn.metrics import mean_squared_error, explained_variance_score"
   ]
  },
  {
   "attachments": {},
   "cell_type": "markdown",
   "metadata": {},
   "source": [
    "# Results Table"
   ]
  },
  {
   "cell_type": "code",
   "execution_count": 244,
   "metadata": {},
   "outputs": [],
   "source": [
    "os.chdir(\"/Users/simonrdkn/Documents/commalla_acoustic_analysis/feature sets\")\n",
    "original_features = pd.read_csv(\"original feature extraction.csv\")\n",
    "sauter_features = pd.read_csv(\"sauter_feature_set.csv\")\n",
    "\n",
    "results_table = pd.DataFrame({\n",
    "    \"dimension\":[],\n",
    "    \"dataset\":[],\n",
    "    \"technique\":[],\n",
    "    \"r2\":[],\n",
    "    \"MSE\":[],\n",
    "    \"explained variance\":[]\n",
    "})\n",
    "\n",
    "feature_weights = pd.DataFrame({\n",
    "    \"dimension\":[],\n",
    "    \"dataset\":[],\n",
    "    \"technique\":[],\n",
    "    \"feature\":[],\n",
    "    \"coefficent\":[],\n",
    "    \"rank\":[]\n",
    "})\n"
   ]
  },
  {
   "cell_type": "code",
   "execution_count": 245,
   "metadata": {},
   "outputs": [
    {
     "name": "stderr",
     "output_type": "stream",
     "text": [
      "/Library/Frameworks/Python.framework/Versions/3.9/lib/python3.9/site-packages/sklearn/linear_model/_coordinate_descent.py:634: ConvergenceWarning: Objective did not converge. You might want to increase the number of iterations. Duality gap: 0.007219530978993305, tolerance: 0.006165457101344418\n",
      "  model = cd_fast.enet_coordinate_descent_gram(\n",
      "/Library/Frameworks/Python.framework/Versions/3.9/lib/python3.9/site-packages/sklearn/linear_model/_coordinate_descent.py:634: ConvergenceWarning: Objective did not converge. You might want to increase the number of iterations. Duality gap: 0.006677170334221216, tolerance: 0.006511736523578114\n",
      "  model = cd_fast.enet_coordinate_descent_gram(\n"
     ]
    }
   ],
   "source": [
    "raw_datasets = [sauter_features, original_features]\n",
    "dataset_names = [\"Sauter Features\", \"Original Features\"]\n",
    "techniques = [ElasticNetCV(cv=5, l1_ratio=0.5), LassoCV(cv=5)]\n",
    "technique_names = [\"Elastic Net\", \"Lasso\"]\n",
    "# # Use param_grids when using regression_cv = GridSearchCV(techniques[j], param_grids[j], cv=5), switch LassoCV() to Lasso()\n",
    "# param_grids = [{'l1_ratio': [ 0.1, 0.2, 0.3, 0.4, 0.5, 0.6, 0.7, 0.8, 0.9]}, {'alpha': [0.001, 0.01, 0.1, 1, 10,]}]\n",
    "\n",
    "for dimension in [\"mean_arousal\", \"mean_valence\"]:\n",
    "    for i in range(2):\n",
    "        for j in range(2):\n",
    "            dataset = raw_datasets[i].dropna()\n",
    "\n",
    "            X = dataset[dataset.columns[7:]] # check columns if results are weird \n",
    "            y = dataset[dimension]\n",
    "            X_train, X_test, y_train, y_test = train_test_split(X, y, test_size=0.25, random_state=2)\n",
    "            scaler = StandardScaler() # scaling the data\n",
    "            X_train = scaler.fit_transform(X_train)\n",
    "            X_test = scaler.transform(X_test)\n",
    "\n",
    "            regression_cv = techniques[j] # couldn't get feature weights from GridSearchCV()\n",
    "            regression_cv.fit(X_train, y_train)\n",
    "            y_pred = regression_cv.predict(X_test)\n",
    "            # print(dimension, dataset_names[i], technique_names[j], regression_cv.score(X_test, y_test), mean_squared_error(y_test, y_pred), explained_variance_score(y_test, y_pred))\n",
    "\n",
    "            new_row = pd.DataFrame({\n",
    "                    \"dimension\":[dimension],\n",
    "                    \"dataset\":[dataset_names[i]],\n",
    "                    \"technique\":[technique_names[j]], \n",
    "                    \"r2\":[regression_cv.score(X_test, y_test)],\n",
    "                    \"MSE\":[mean_squared_error(y_test, y_pred)],\n",
    "                    \"explained variance\": [explained_variance_score(y_test, y_pred)]\n",
    "                    })\n",
    "\n",
    "            results_table = pd.concat([results_table, new_row])\n",
    "\n",
    "            zipped = list(zip(X.columns, regression_cv.coef_))\n",
    "            sorted_list = sorted(zipped, key=lambda x: x[1], reverse=True)\n",
    "            sorted_rank = [sorted_list[i-1]+(i,) for i in range(1, len(sorted_list)+1)]\n",
    "            # print(sorted_rank)\n",
    "\n",
    "            new_row_weights = pd.DataFrame({\n",
    "                    \"dimension\":[dimension]*len(sorted_rank),\n",
    "                    \"dataset\":[dataset_names[i]]*len(sorted_rank),\n",
    "                    \"technique\":[technique_names[j]]*len(sorted_rank),\n",
    "                    \"feature\":[sorted_rank[i][0] for i in range(len(sorted_rank))],\n",
    "                    \"coefficent\":[sorted_rank[i][1] for i in range(len(sorted_rank))],\n",
    "                    \"rank\":[sorted_rank[i][2] for i in range(len(sorted_rank))]\n",
    "                })\n",
    "            feature_weights = pd.concat([feature_weights, new_row_weights])\n",
    "# Remember to only add rows to dataset once and save files! "
   ]
  },
  {
   "cell_type": "code",
   "execution_count": 246,
   "metadata": {},
   "outputs": [],
   "source": [
    "results_table.to_csv(\"/Users/simonrdkn/Documents/commalla_acoustic_analysis/final results/lin_reg_results.csv\")\n",
    "feature_weights.to_csv(\"/Users/simonrdkn/Documents/commalla_acoustic_analysis/final results/lin_reg_weights.csv\")"
   ]
  },
  {
   "attachments": {},
   "cell_type": "markdown",
   "metadata": {},
   "source": [
    "# Lasso Regression \n",
    "lots of misc testing"
   ]
  },
  {
   "cell_type": "code",
   "execution_count": 213,
   "metadata": {},
   "outputs": [
    {
     "name": "stdout",
     "output_type": "stream",
     "text": [
      "Index(['duration', 'mean_pitch', 'min_pitch', 'max_pitch', 'stdev_pitch',\n",
      "       'mean_intensity', 'spectral_cog', 'spectral_sd', 'amp_rms',\n",
      "       'sd_intensity'],\n",
      "      dtype='object')\n"
     ]
    }
   ],
   "source": [
    "# Loading and Preparing Data\n",
    "sauter_feature_set = pd.read_csv(\"/Users/simonrdkn/Documents/commalla_acoustic_analysis/feature sets/sauter_feature_set.csv\")\n",
    "sauter_feature_set = sauter_feature_set.dropna()\n",
    "\n",
    "X = sauter_feature_set[sauter_feature_set.columns[7:]]\n",
    "print(X.columns)\n",
    "y = sauter_feature_set.mean_arousal\n",
    "X_train, X_test, y_train, y_test = train_test_split(X, y, test_size=0.25, random_state=42)\n",
    "\n",
    "scaler = StandardScaler()\n",
    "X_train = scaler.fit_transform(X_train)\n",
    "X_test = scaler.transform(X_test)"
   ]
  },
  {
   "cell_type": "code",
   "execution_count": 214,
   "metadata": {},
   "outputs": [
    {
     "name": "stdout",
     "output_type": "stream",
     "text": [
      "Model Score:  0.7536980768604028\n"
     ]
    }
   ],
   "source": [
    "lasso = Lasso(alpha=0.01)\n",
    "lasso.fit(X_train, y_train)\n",
    "y_pred = lasso.predict(X_test)\n",
    "print(\"Model Score: \", lasso.score(X_test, y_test))"
   ]
  },
  {
   "cell_type": "code",
   "execution_count": 215,
   "metadata": {},
   "outputs": [
    {
     "name": "stdout",
     "output_type": "stream",
     "text": [
      "Best Lasso Parameters: {'alpha': 0.01}\n",
      "Best Lasso Score (not test): 0.7671381077906702\n",
      "Elastic r^2 score: 0.753582939994628\n"
     ]
    }
   ],
   "source": [
    "# Lasso \n",
    "param_grid = {'alpha': [0.001, 0.01, 0.1, 1, 10,]}\n",
    "lasso_cv = GridSearchCV(Lasso(), param_grid, cv=ShuffleSplit(n_splits=5, test_size=0.25))\n",
    "lasso_cv.fit(X_train, y_train)\n",
    "print(\"Best Parameters:\", lasso_cv.best_params_)\n",
    "print(\"Best Lasso Score (not test):\", lasso_cv.best_score_)\n",
    "\n",
    "lasso_cv = LassoCV(cv=5) # gridsearchCV does not return coef_ (required for weights info)\n",
    "lasso_cv.fit(X_train, y_train)\n",
    "lasso_cv.score(X_test, y_test) # coefficent of determination r^2\n",
    "\n",
    "# Elastic Net\n",
    "param_grid = {'l1_ratio': [ 0.1, 0.2, 0.3, 0.4, 0.5, 0.6, 0.7, 0.8, 0.9]}\n",
    "elastic_net_cv = GridSearchCV(ElasticNetCV(), param_grid, cv=5)\n",
    "elastic_net_cv.fit(X_train, y_train)\n",
    "best_l1 = elastic_net_cv.best_params_[\"l1_ratio\"]\n",
    "print(\"Elastic r^2 score:\", elastic_net_cv.score(X_test, y_test))"
   ]
  },
  {
   "cell_type": "code",
   "execution_count": 217,
   "metadata": {},
   "outputs": [
    {
     "ename": "AttributeError",
     "evalue": "'GridSearchCV' object has no attribute 'coef_'",
     "output_type": "error",
     "traceback": [
      "\u001b[0;31m---------------------------------------------------------------------------\u001b[0m",
      "\u001b[0;31mAttributeError\u001b[0m                            Traceback (most recent call last)",
      "\u001b[1;32m/Users/simonrdkn/Documents/commalla_acoustic_analysis/lasso regression sauter set.ipynb Cell 10\u001b[0m in \u001b[0;36m1\n\u001b[0;32m----> <a href='vscode-notebook-cell:/Users/simonrdkn/Documents/commalla_acoustic_analysis/lasso%20regression%20sauter%20set.ipynb#X15sZmlsZQ%3D%3D?line=0'>1</a>\u001b[0m zipped \u001b[39m=\u001b[39m \u001b[39mlist\u001b[39m(\u001b[39mzip\u001b[39m(lasso_cv\u001b[39m.\u001b[39mcoef_, X\u001b[39m.\u001b[39mcolumns)) \u001b[39m# list(map(list, zip(lasso_cv.coef_, X.columns)))\u001b[39;00m\n\u001b[1;32m      <a href='vscode-notebook-cell:/Users/simonrdkn/Documents/commalla_acoustic_analysis/lasso%20regression%20sauter%20set.ipynb#X15sZmlsZQ%3D%3D?line=1'>2</a>\u001b[0m sorted_list \u001b[39m=\u001b[39m \u001b[39msorted\u001b[39m(zipped, key\u001b[39m=\u001b[39m\u001b[39mlambda\u001b[39;00m x: x[\u001b[39m0\u001b[39m], reverse\u001b[39m=\u001b[39m\u001b[39mTrue\u001b[39;00m)\n\u001b[1;32m      <a href='vscode-notebook-cell:/Users/simonrdkn/Documents/commalla_acoustic_analysis/lasso%20regression%20sauter%20set.ipynb#X15sZmlsZQ%3D%3D?line=2'>3</a>\u001b[0m sorted_rank \u001b[39m=\u001b[39m [sorted_list[i\u001b[39m-\u001b[39m\u001b[39m1\u001b[39m]\u001b[39m+\u001b[39m(i,) \u001b[39mfor\u001b[39;00m i \u001b[39min\u001b[39;00m \u001b[39mrange\u001b[39m(\u001b[39m1\u001b[39m, \u001b[39mlen\u001b[39m(sorted_list)\u001b[39m+\u001b[39m\u001b[39m1\u001b[39m)]\n",
      "\u001b[0;31mAttributeError\u001b[0m: 'GridSearchCV' object has no attribute 'coef_'"
     ]
    }
   ],
   "source": [
    "zipped = list(zip(lasso_cv.coef_, X.columns)) # list(map(list, zip(lasso_cv.coef_, X.columns)))\n",
    "sorted_list = sorted(zipped, key=lambda x: x[0], reverse=True)\n",
    "sorted_rank = [sorted_list[i-1]+(i,) for i in range(1, len(sorted_list)+1)]\n",
    "print(sorted_rank)\n",
    "\n"
   ]
  },
  {
   "attachments": {},
   "cell_type": "markdown",
   "metadata": {},
   "source": [
    "Arousal r2 = 0.754 <br>\n",
    "Valence r2 = 0.285\n"
   ]
  }
 ],
 "metadata": {
  "kernelspec": {
   "display_name": "Python 3",
   "language": "python",
   "name": "python3"
  },
  "language_info": {
   "codemirror_mode": {
    "name": "ipython",
    "version": 3
   },
   "file_extension": ".py",
   "mimetype": "text/x-python",
   "name": "python",
   "nbconvert_exporter": "python",
   "pygments_lexer": "ipython3",
   "version": "3.9.7"
  },
  "orig_nbformat": 4
 },
 "nbformat": 4,
 "nbformat_minor": 2
}
